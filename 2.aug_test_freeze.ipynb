{
 "cells": [
  {
   "cell_type": "markdown",
   "metadata": {},
   "source": [
    "# pre-trained transfer learning + cutmix&mixup 타당성 검증"
   ]
  },
  {
   "cell_type": "markdown",
   "metadata": {},
   "source": [
    "#### 이전 aug_test에서 cutmix와 mixup적용 모델(finetune) 오히려 성능이 좋지않아 finetune에대한 실험 try!\n",
    "\n",
    "- EECS에선 ImageNet과 datasets이 similar하고 little data (10s to 100s ?)면 top layer만 fine-tune하고 quite a lot of data (100s to 1000s)면 few layer를 finetune하라고함.\n",
    "- 이미 큰 dataset(imagenet)이 pre-trained된 model을 가져왔는데 조금더 작은 데이터셋을 fine-tune할때 augmentation할 필요가 있을까??\n",
    "    - 일단 stanford_dogs dataset자체가 domain spesific하지 않고 Imagenet과 similar하다고 보여지긴함\n",
    "    - 하지만 aug_test에서 augmentation 적용하지 않은 resnet50 (pre-trained on imagenet)은 오버피팅 났으니 augmentation으로 줄여보자!!!"
   ]
  },
  {
   "cell_type": "markdown",
   "metadata": {},
   "source": [
    "- using pre-trained resnet-50 with imagenet\n",
    "    - finetune VS freeze transfer learning  (model.trainable = False) -> BN은 살리고 moving average를 K.update로 적용\n",
    "- datasets : tensorflow_datasets stanford_dogs\n",
    "- resize & scaling만 적용"
   ]
  },
  {
   "cell_type": "code",
   "execution_count": 1,
   "metadata": {},
   "outputs": [
    {
     "name": "stdout",
     "output_type": "stream",
     "text": [
      "z\n"
     ]
    }
   ],
   "source": [
    "# TensorFlow and tf.keras\n",
    "import tensorflow as tf\n",
    "from tensorflow import keras\n",
    "\n",
    "# Helper libraries\n",
    "import numpy as np\n",
    "\n",
    "import matplotlib.pyplot as plt\n",
    "\n",
    "import tensorflow_datasets as tfds\n",
    "\n",
    "import pickle\n",
    "\n",
    "print('z')"
   ]
  },
  {
   "cell_type": "code",
   "execution_count": 2,
   "metadata": {},
   "outputs": [],
   "source": [
    "import urllib3\n",
    "urllib3.disable_warnings()\n",
    "(ds_train, ds_test), ds_info = tfds.load(\n",
    "    'stanford_dogs',\n",
    "    split=['train', 'test'],\n",
    "    as_supervised=True,\n",
    "    shuffle_files=True,\n",
    "    with_info=True,\n",
    ")\n",
    "\n",
    "num_classes = ds_info.features[\"label\"].num_classes"
   ]
  },
  {
   "cell_type": "code",
   "execution_count": 3,
   "metadata": {},
   "outputs": [],
   "source": [
    "def normalize_and_resize_img_origin(image, label):\n",
    "    \"\"\"Normalizes images: `uint8` -> `float32`.\"\"\"\n",
    "    image = tf.image.resize(image, [224, 224])\n",
    "    return tf.cast(image, tf.float32) / 255., label"
   ]
  },
  {
   "cell_type": "code",
   "execution_count": 4,
   "metadata": {},
   "outputs": [],
   "source": [
    "# 데이터셋(ds)을 가공하는 메인함수\n",
    "def apply_normalize_on_dataset(ds, is_test=False, batch_size=16):\n",
    "    ds = ds.map(\n",
    "        normalize_and_resize_img_origin,  # 기본적인 전처리 함수 적용\n",
    "        num_parallel_calls=2\n",
    "    )\n",
    "    ds = ds.batch(batch_size)\n",
    "    if not is_test:\n",
    "        ds = ds.repeat()\n",
    "        ds = ds.shuffle(200)\n",
    "    ds = ds.prefetch(tf.data.experimental.AUTOTUNE)\n",
    "    return ds"
   ]
  },
  {
   "cell_type": "code",
   "execution_count": 5,
   "metadata": {},
   "outputs": [],
   "source": [
    "ds_train = apply_normalize_on_dataset(ds_train)\n",
    "ds_test = apply_normalize_on_dataset(ds_test, is_test = True)"
   ]
  },
  {
   "cell_type": "markdown",
   "metadata": {},
   "source": []
  },
  {
   "cell_type": "markdown",
   "metadata": {},
   "source": [
    "## all finetune model (이전과 같은거)"
   ]
  },
  {
   "cell_type": "code",
   "execution_count": 6,
   "metadata": {},
   "outputs": [
    {
     "name": "stdout",
     "output_type": "stream",
     "text": [
      "Model: \"sequential\"\n",
      "_________________________________________________________________\n",
      "Layer (type)                 Output Shape              Param #   \n",
      "=================================================================\n",
      "resnet50 (Model)             (None, 2048)              23587712  \n",
      "_________________________________________________________________\n",
      "dense (Dense)                (None, 120)               245880    \n",
      "=================================================================\n",
      "Total params: 23,833,592\n",
      "Trainable params: 23,780,472\n",
      "Non-trainable params: 53,120\n",
      "_________________________________________________________________\n"
     ]
    }
   ],
   "source": [
    "resnet50_finetune = keras.models.Sequential([\n",
    "    keras.applications.resnet.ResNet50(\n",
    "        include_top=False,\n",
    "        weights='imagenet',\n",
    "        input_shape=(224, 224,3),\n",
    "        pooling='avg',\n",
    "    ),\n",
    "    keras.layers.Dense(num_classes, activation = 'softmax')\n",
    "])\n",
    "\n",
    "resnet50_finetune.summary()"
   ]
  },
  {
   "cell_type": "code",
   "execution_count": 7,
   "metadata": {},
   "outputs": [
    {
     "name": "stdout",
     "output_type": "stream",
     "text": [
      "Train for 750 steps, validate for 536 steps\n",
      "Epoch 1/10\n",
      "750/750 [==============================] - 144s 192ms/step - loss: 2.2258 - sparse_categorical_accuracy: 0.4442 - val_loss: 3.1504 - val_sparse_categorical_accuracy: 0.2415\n",
      "Epoch 2/10\n",
      "750/750 [==============================] - 129s 172ms/step - loss: 0.7936 - sparse_categorical_accuracy: 0.7783 - val_loss: 1.1906 - val_sparse_categorical_accuracy: 0.6556\n",
      "Epoch 3/10\n",
      "750/750 [==============================] - 137s 183ms/step - loss: 0.3071 - sparse_categorical_accuracy: 0.9289 - val_loss: 0.9565 - val_sparse_categorical_accuracy: 0.7204\n",
      "Epoch 4/10\n",
      "750/750 [==============================] - 137s 183ms/step - loss: 0.1102 - sparse_categorical_accuracy: 0.9852 - val_loss: 0.9741 - val_sparse_categorical_accuracy: 0.7239\n",
      "Epoch 5/10\n",
      "750/750 [==============================] - 137s 183ms/step - loss: 0.0373 - sparse_categorical_accuracy: 0.9972 - val_loss: 0.9009 - val_sparse_categorical_accuracy: 0.7428\n",
      "Epoch 6/10\n",
      "750/750 [==============================] - 137s 183ms/step - loss: 0.0284 - sparse_categorical_accuracy: 0.9974 - val_loss: 0.9426 - val_sparse_categorical_accuracy: 0.7392\n",
      "Epoch 7/10\n",
      "750/750 [==============================] - 137s 183ms/step - loss: 0.0237 - sparse_categorical_accuracy: 0.9980 - val_loss: 0.9546 - val_sparse_categorical_accuracy: 0.7372\n",
      "Epoch 8/10\n",
      "750/750 [==============================] - 137s 183ms/step - loss: 0.0211 - sparse_categorical_accuracy: 0.9983 - val_loss: 0.9482 - val_sparse_categorical_accuracy: 0.7455\n",
      "Epoch 9/10\n",
      "750/750 [==============================] - 137s 183ms/step - loss: 0.0104 - sparse_categorical_accuracy: 0.9998 - val_loss: 0.9444 - val_sparse_categorical_accuracy: 0.7485\n",
      "Epoch 10/10\n",
      "750/750 [==============================] - 137s 183ms/step - loss: 0.0095 - sparse_categorical_accuracy: 0.9993 - val_loss: 0.9636 - val_sparse_categorical_accuracy: 0.7437\n"
     ]
    }
   ],
   "source": [
    "EPOCH = 10\n",
    "\n",
    "tf.random.set_seed(2020)\n",
    "resnet50_finetune.compile(\n",
    "    loss='sparse_categorical_crossentropy',\n",
    "    optimizer=tf.keras.optimizers.SGD(lr=0.01),\n",
    "    metrics=[tf.keras.metrics.SparseCategoricalAccuracy()]\n",
    ")\n",
    "\n",
    "history_resnet50_finetune = resnet50_finetune.fit(\n",
    "    ds_train, # augmentation 적용하지 않은 데이터셋 사용\n",
    "    steps_per_epoch=int(ds_info.splits['train'].num_examples/16),\n",
    "    validation_steps=int(ds_info.splits['test'].num_examples/16),\n",
    "    epochs=EPOCH,\n",
    "    validation_data=ds_test,\n",
    "    verbose=1,\n",
    "    use_multiprocessing=True,\n",
    ")\n",
    "\n",
    "resnet50_finetune.save_weights('resnet50_finetune')\n",
    "with open('./funetune_gist_and_weights/resnet50_finetune_hist', 'wb') as file_pi:\n",
    "    pickle.dump(history_resnet50_finetune.history, file_pi)"
   ]
  },
  {
   "cell_type": "code",
   "execution_count": 8,
   "metadata": {},
   "outputs": [],
   "source": [
    "history_resnet50_finetune = pickle.load(open('./funetune_gist_and_weights/resnet50_finetune_hist', \"rb\"))"
   ]
  },
  {
   "cell_type": "markdown",
   "metadata": {},
   "source": [
    "## Freeze & finetune model"
   ]
  },
  {
   "cell_type": "code",
   "execution_count": 12,
   "metadata": {},
   "outputs": [
    {
     "name": "stdout",
     "output_type": "stream",
     "text": [
      "Model: \"model_1\"\n",
      "_________________________________________________________________\n",
      "Layer (type)                 Output Shape              Param #   \n",
      "=================================================================\n",
      "input_5 (InputLayer)         [(None, 224, 224, 3)]     0         \n",
      "_________________________________________________________________\n",
      "resnet50 (Model)             (None, 7, 7, 2048)        23587712  \n",
      "_________________________________________________________________\n",
      "global_average_pooling2d_1 ( (None, 2048)              0         \n",
      "_________________________________________________________________\n",
      "dropout_1 (Dropout)          (None, 2048)              0         \n",
      "_________________________________________________________________\n",
      "dense_2 (Dense)              (None, 120)               245880    \n",
      "=================================================================\n",
      "Total params: 23,833,592\n",
      "Trainable params: 299,000\n",
      "Non-trainable params: 23,534,592\n",
      "_________________________________________________________________\n"
     ]
    }
   ],
   "source": [
    "import keras.backend as K\n",
    "\n",
    "base_model = tf.keras.applications.resnet.ResNet50(\n",
    "        include_top=False,\n",
    "        weights='imagenet',\n",
    "        input_shape=(224, 224, 3),\n",
    "        #pooling='avg',\n",
    "    )\n",
    "\n",
    "# 오늘의 교훈 api를 신뢰하지 말자\n",
    "\n",
    "for layer in base_model.layers:\n",
    "        if hasattr(layer, 'moving_mean') and hasattr(layer, 'moving_variance'):\n",
    "            layer.trainable = True\n",
    "            K.eval(K.update(layer.moving_mean, K.zeros_like(layer.moving_mean)))\n",
    "            K.eval(K.update(layer.moving_variance, K.zeros_like(layer.moving_variance)))\n",
    "        else:\n",
    "            layer.trainable = False\n",
    "\n",
    "\n",
    "inputs = keras.Input(shape=(224, 224, 3)) \n",
    "\n",
    "x = base_model(inputs) \n",
    "x = keras.layers.GlobalAveragePooling2D()(x)\n",
    "\n",
    "x = keras.layers.Dropout(0.2)(x)  # Regularize with dropout\n",
    "outputs = keras.layers.Dense(num_classes, activation = 'softmax')(x)\n",
    "resnet50_freeze = keras.Model(inputs, outputs)\n",
    "\n",
    "\n",
    "resnet50_freeze.summary()"
   ]
  },
  {
   "cell_type": "code",
   "execution_count": 14,
   "metadata": {},
   "outputs": [
    {
     "name": "stdout",
     "output_type": "stream",
     "text": [
      "Train for 750 steps, validate for 536 steps\n",
      "Epoch 1/10\n",
      "750/750 [==============================] - 94s 125ms/step - loss: 3.4926 - sparse_categorical_accuracy: 0.2267 - val_loss: 4.0269 - val_sparse_categorical_accuracy: 0.1267\n",
      "Epoch 2/10\n",
      "750/750 [==============================] - 90s 121ms/step - loss: 1.9448 - sparse_categorical_accuracy: 0.5075 - val_loss: 1.4855 - val_sparse_categorical_accuracy: 0.5941\n",
      "Epoch 3/10\n",
      "750/750 [==============================] - 91s 121ms/step - loss: 1.4277 - sparse_categorical_accuracy: 0.6211 - val_loss: 1.2942 - val_sparse_categorical_accuracy: 0.6313\n",
      "Epoch 4/10\n",
      "750/750 [==============================] - 91s 121ms/step - loss: 1.2232 - sparse_categorical_accuracy: 0.6647 - val_loss: 1.1779 - val_sparse_categorical_accuracy: 0.6596\n",
      "Epoch 5/10\n",
      "750/750 [==============================] - 91s 121ms/step - loss: 1.0513 - sparse_categorical_accuracy: 0.7087 - val_loss: 1.1149 - val_sparse_categorical_accuracy: 0.6719\n",
      "Epoch 6/10\n",
      "750/750 [==============================] - 91s 121ms/step - loss: 0.9491 - sparse_categorical_accuracy: 0.7393 - val_loss: 1.0700 - val_sparse_categorical_accuracy: 0.6810\n",
      "Epoch 7/10\n",
      "750/750 [==============================] - 91s 121ms/step - loss: 0.8583 - sparse_categorical_accuracy: 0.7649 - val_loss: 1.0452 - val_sparse_categorical_accuracy: 0.6884\n",
      "Epoch 8/10\n",
      "750/750 [==============================] - 89s 118ms/step - loss: 0.8104 - sparse_categorical_accuracy: 0.7728 - val_loss: 1.0208 - val_sparse_categorical_accuracy: 0.6940\n",
      "Epoch 9/10\n",
      "750/750 [==============================] - 89s 118ms/step - loss: 0.7465 - sparse_categorical_accuracy: 0.7977 - val_loss: 1.0037 - val_sparse_categorical_accuracy: 0.6962\n",
      "Epoch 10/10\n",
      "750/750 [==============================] - 89s 118ms/step - loss: 0.6881 - sparse_categorical_accuracy: 0.8102 - val_loss: 0.9823 - val_sparse_categorical_accuracy: 0.7030\n"
     ]
    }
   ],
   "source": [
    "EPOCH = 10\n",
    "\n",
    "# # cats_and_dogs\n",
    "# resnet50_freeze.compile(\n",
    "#     optimizer=keras.optimizers.Adam(),\n",
    "#     loss=keras.losses.BinaryCrossentropy(from_logits=True),\n",
    "#     metrics=[keras.metrics.BinaryAccuracy()],\n",
    "# )\n",
    "\n",
    "tf.random.set_seed(2020)\n",
    "resnet50_freeze.compile(\n",
    "    loss='sparse_categorical_crossentropy',\n",
    "    optimizer=tf.keras.optimizers.SGD(lr=0.01),\n",
    "    metrics=[tf.keras.metrics.SparseCategoricalAccuracy()]\n",
    ")\n",
    "\n",
    "history_resnet50_freeze = resnet50_freeze.fit(\n",
    "    ds_train, # augmentation 적용하지 않은 데이터셋 사용\n",
    "    steps_per_epoch=int(ds_info.splits['train'].num_examples/16),\n",
    "    validation_steps=int(ds_info.splits['test'].num_examples/16),\n",
    "    epochs=EPOCH,\n",
    "    validation_data=ds_test,\n",
    "    verbose=1,\n",
    "    use_multiprocessing=True,\n",
    ")\n",
    "\n",
    "resnet50_freeze.save_weights('resnet50_freeze')\n",
    "with open('./funetune_gist_and_weights/resnet50_freeze_hist', 'wb') as file_pi:\n",
    "    pickle.dump(history_resnet50_freeze.history, file_pi)"
   ]
  },
  {
   "cell_type": "code",
   "execution_count": 15,
   "metadata": {},
   "outputs": [],
   "source": [
    "history_resnet50_freeze = pickle.load(open('./funetune_gist_and_weights/resnet50_freeze_hist', \"rb\"))"
   ]
  },
  {
   "cell_type": "markdown",
   "metadata": {},
   "source": [
    "## All finetune"
   ]
  },
  {
   "cell_type": "code",
   "execution_count": 16,
   "metadata": {},
   "outputs": [
    {
     "data": {
      "image/png": "[encoded data removed]",
      "text/plain": [
       "<Figure size 432x288 with 1 Axes>"
      ]
     },
     "metadata": {
      "needs_background": "light"
     },
     "output_type": "display_data"
    }
   ],
   "source": [
    "plt.plot(history_resnet50_finetune['sparse_categorical_accuracy'], 'r')\n",
    "plt.plot(history_resnet50_finetune['val_sparse_categorical_accuracy'], 'b')\n",
    "plt.title('finetune')\n",
    "plt.ylabel('Accuracy')\n",
    "plt.xlabel('Epoch')\n",
    "plt.legend(['sparse_categorical_accuracy', 'val_sparse_categorical_accuracy'], loc='upper left')\n",
    "plt.show()"
   ]
  },
  {
   "cell_type": "markdown",
   "metadata": {},
   "source": [
    "## freeze and top finetune"
   ]
  },
  {
   "cell_type": "code",
   "execution_count": 17,
   "metadata": {},
   "outputs": [
    {
     "data": {
      "image/png": "[encoded data removed]",
      "text/plain": [
       "<Figure size 432x288 with 1 Axes>"
      ]
     },
     "metadata": {
      "needs_background": "light"
     },
     "output_type": "display_data"
    }
   ],
   "source": [
    "plt.plot(history_resnet50_freeze['sparse_categorical_accuracy'], 'r')\n",
    "plt.plot(history_resnet50_freeze['val_sparse_categorical_accuracy'], 'b')\n",
    "plt.title('finetune')\n",
    "plt.ylabel('Accuracy')\n",
    "plt.xlabel('Epoch')\n",
    "plt.legend(['sparse_categorical_accuracy', 'val_sparse_categorical_accuracy'], loc='upper left')\n",
    "plt.show()"
   ]
  },
  {
   "cell_type": "code",
   "execution_count": 18,
   "metadata": {},
   "outputs": [
    {
     "data": {
      "image/png": "[encoded data removed]",
      "text/plain": [
       "<Figure size 432x288 with 1 Axes>"
      ]
     },
     "metadata": {
      "needs_background": "light"
     },
     "output_type": "display_data"
    }
   ],
   "source": [
    "plt.plot(history_resnet50_finetune['val_sparse_categorical_accuracy'], 'r')\n",
    "plt.plot(history_resnet50_freeze['val_sparse_categorical_accuracy'], 'b')\n",
    "plt.title('finetune VS freeze')\n",
    "plt.ylabel('Accuracy')\n",
    "plt.xlabel('Epoch')\n",
    "plt.legend(['finetune', 'freeze'], loc='upper left')\n",
    "plt.show()"
   ]
  },
  {
   "cell_type": "markdown",
   "metadata": {},
   "source": [
    "- 일단 resnet50 기본모델에 대해선 all-finetune과 top-finetune 내가 원하는 유의미한 차이 없음 "
   ]
  },
  {
   "cell_type": "code",
   "execution_count": null,
   "metadata": {},
   "outputs": [],
   "source": []
  },
  {
   "cell_type": "markdown",
   "metadata": {},
   "source": [
    "- aug_test_freeze_v2에서 계속~"
   ]
  },
  {
   "cell_type": "markdown",
   "metadata": {},
   "source": []
  }
 ],
 "metadata": {
  "interpreter": {
   "hash": "798dbe6d6882d295d5a206f51e10fa0f74a06973d376dae7f972bab929673e71"
  },
  "kernelspec": {
   "display_name": "Python 3.7.9 ('aiffel')",
   "language": "python",
   "name": "python3"
  },
  "language_info": {
   "codemirror_mode": {
    "name": "ipython",
    "version": 3
   },
   "file_extension": ".py",
   "mimetype": "text/x-python",
   "name": "python",
   "nbconvert_exporter": "python",
   "pygments_lexer": "ipython3",
   "version": "3.7.9"
  },
  "orig_nbformat": 4
 },
 "nbformat": 4,
 "nbformat_minor": 2
}
